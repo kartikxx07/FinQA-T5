{
 "cells": [
  {
   "cell_type": "code",
   "execution_count": 5,
   "metadata": {},
   "outputs": [],
   "source": [
    "import pandas as pd\n",
    "import numpy as np\n",
    "import matplotlib as plt\n",
    "from bertopic import BERTopic\n",
    "from sentence_transformers import SentenceTransformer\n"
   ]
  },
  {
   "cell_type": "code",
   "execution_count": 6,
   "metadata": {},
   "outputs": [],
   "source": [
    "import nltk\n",
    "from nltk.corpus import stopwords"
   ]
  },
  {
   "cell_type": "code",
   "execution_count": 7,
   "metadata": {},
   "outputs": [
    {
     "name": "stderr",
     "output_type": "stream",
     "text": [
      "[nltk_data] Downloading package stopwords to\n",
      "[nltk_data]     /Users/kartikayluthra/nltk_data...\n",
      "[nltk_data]   Unzipping corpora/stopwords.zip.\n"
     ]
    },
    {
     "data": {
      "text/plain": [
       "True"
      ]
     },
     "execution_count": 7,
     "metadata": {},
     "output_type": "execute_result"
    }
   ],
   "source": [
    "nltk.download('stopwords')"
   ]
  },
  {
   "cell_type": "code",
   "execution_count": 15,
   "metadata": {},
   "outputs": [],
   "source": [
    "df = pd.read_csv(\"/Users/kartikayluthra/Desktop/finance-qa-/data/processed/train.csv\")\n",
    "sample_df = df.sample(10000, random_state=42)\n",
    "sample_df.to_csv(\"/Users/kartikayluthra/Desktop/finance-qa-/data/processed/train_sample.csv\", index = \"False\")\n",
    "answers = sample_df[\"assistant\"].dropna().tolist()\n",
    "stop_words = set(stopwords.words(\"english\"))"
   ]
  },
  {
   "cell_type": "code",
   "execution_count": 17,
   "metadata": {},
   "outputs": [],
   "source": [
    "import re\n",
    "\n",
    "def preprocess_text(answer):\n",
    "    answer = answer.lower()\n",
    "    answer = answer.strip()\n",
    "    answer = re.sub(r'\\d+', '', answer)\n",
    "    answer = re.sub(r'[^\\w\\s]', '', answer)\n",
    "\n",
    "    tokens = answer.split()\n",
    "    tokens = [word for word in tokens if word not in stop_words]\n",
    "    \n",
    "    return \" \".join(tokens)\n",
    "\n",
    "processed_texts = [preprocess_text(answer) for answer in answers]"
   ]
  },
  {
   "cell_type": "code",
   "execution_count": 20,
   "metadata": {},
   "outputs": [
    {
     "name": "stderr",
     "output_type": "stream",
     "text": [
      "2025-09-17 12:45:00,360 - BERTopic - Embedding - Transforming documents to embeddings.\n"
     ]
    },
    {
     "data": {
      "application/vnd.jupyter.widget-view+json": {
       "model_id": "ab3f57db2e834c308fc0adfbe58aeea7",
       "version_major": 2,
       "version_minor": 0
      },
      "text/plain": [
       "Batches:   0%|          | 0/313 [00:00<?, ?it/s]"
      ]
     },
     "metadata": {},
     "output_type": "display_data"
    },
    {
     "name": "stderr",
     "output_type": "stream",
     "text": [
      "2025-09-17 12:45:26,237 - BERTopic - Embedding - Completed ✓\n",
      "2025-09-17 12:45:26,237 - BERTopic - Dimensionality - Fitting the dimensionality reduction algorithm\n",
      "2025-09-17 12:45:30,732 - BERTopic - Dimensionality - Completed ✓\n",
      "2025-09-17 12:45:30,734 - BERTopic - Cluster - Start clustering the reduced embeddings\n",
      "2025-09-17 12:45:36,125 - BERTopic - Cluster - Completed ✓\n",
      "2025-09-17 12:45:36,132 - BERTopic - Representation - Fine-tuning topics using representation models.\n",
      "2025-09-17 12:45:36,296 - BERTopic - Representation - Completed ✓\n"
     ]
    }
   ],
   "source": [
    "embedding_model = SentenceTransformer(\"all-MiniLM-L6-v2\")  \n",
    "topic_model = BERTopic(embedding_model=embedding_model, verbose=True, calculate_probabilities= True)\n",
    "\n",
    "topics, probs = topic_model.fit_transform(processed_texts)"
   ]
  },
  {
   "cell_type": "code",
   "execution_count": 21,
   "metadata": {},
   "outputs": [
    {
     "name": "stdout",
     "output_type": "stream",
     "text": [
      "Saved CSV with top 3 topics\n"
     ]
    }
   ],
   "source": [
    "if probs is None:\n",
    "    raise ValueError(\"probs is None. Make sure calculate_probabilities=True when initializing BERTopic.\")\n",
    "top_n = 3\n",
    "top_topics = []\n",
    "for prob in probs:\n",
    "    \n",
    "    if prob is None or len(prob) == 0:\n",
    "        top_topics.append([None]*top_n)\n",
    "        continue\n",
    "    top_idx = np.argsort(prob)[::-1][:top_n]\n",
    "    top_topics.append(top_idx.tolist())\n",
    "\n",
    "top_cols = [f\"topic_{i+1}\" for i in range(top_n)]\n",
    "df_top = pd.DataFrame(top_topics, columns=top_cols)\n",
    "\n",
    "sample_df_with_topics = pd.concat([sample_df.reset_index(drop=True), df_top], axis=1)\n",
    "\n",
    "sample_df_with_topics.to_csv(\"/Users/kartikayluthra/Desktop/finance-qa-/data/processed/train_sample_with_top3_topics.csv\", index=False)\n",
    "print(\"Saved CSV with top 3 topics\")"
   ]
  }
 ],
 "metadata": {
  "kernelspec": {
   "display_name": "base",
   "language": "python",
   "name": "python3"
  },
  "language_info": {
   "codemirror_mode": {
    "name": "ipython",
    "version": 3
   },
   "file_extension": ".py",
   "mimetype": "text/x-python",
   "name": "python",
   "nbconvert_exporter": "python",
   "pygments_lexer": "ipython3",
   "version": "3.12.4"
  }
 },
 "nbformat": 4,
 "nbformat_minor": 2
}
