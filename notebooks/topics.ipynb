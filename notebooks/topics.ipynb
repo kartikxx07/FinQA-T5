{
 "cells": [
  {
   "cell_type": "code",
   "execution_count": 2,
   "metadata": {},
   "outputs": [],
   "source": [
    "import pandas as pd\n",
    "import numpy as np\n",
    "import matplotlib as plt\n",
    "from bertopic import BERTopic\n",
    "from sentence_transformers import SentenceTransformer\n"
   ]
  },
  {
   "cell_type": "code",
   "execution_count": 3,
   "metadata": {},
   "outputs": [],
   "source": [
    "import nltk\n",
    "from nltk.corpus import stopwords"
   ]
  },
  {
   "cell_type": "code",
   "execution_count": 4,
   "metadata": {},
   "outputs": [
    {
     "name": "stderr",
     "output_type": "stream",
     "text": [
      "[nltk_data] Downloading package stopwords to\n",
      "[nltk_data]     /Users/kartikayluthra/nltk_data...\n",
      "[nltk_data]   Package stopwords is already up-to-date!\n"
     ]
    },
    {
     "data": {
      "text/plain": [
       "True"
      ]
     },
     "execution_count": 4,
     "metadata": {},
     "output_type": "execute_result"
    }
   ],
   "source": [
    "nltk.download('stopwords')"
   ]
  },
  {
   "cell_type": "code",
   "execution_count": 5,
   "metadata": {},
   "outputs": [],
   "source": [
    "df = pd.read_csv(\"/Users/kartikayluthra/Desktop/finance-qa-/data/processed/train.csv\")\n",
    "sample_df = df.sample(10000, random_state=42)\n",
    "sample_df.to_csv(\"/Users/kartikayluthra/Desktop/finance-qa-/data/processed/train_sample.csv\", index = \"False\")\n",
    "answers = sample_df[\"assistant\"].dropna().tolist()\n",
    "stop_words = set(stopwords.words(\"english\"))"
   ]
  },
  {
   "cell_type": "code",
   "execution_count": 6,
   "metadata": {},
   "outputs": [],
   "source": [
    "import re\n",
    "\n",
    "def preprocess_text(answer):\n",
    "    answer = answer.lower()\n",
    "    answer = answer.strip()\n",
    "    answer = re.sub(r'\\d+', '', answer)\n",
    "    answer = re.sub(r'[^\\w\\s]', '', answer)\n",
    "\n",
    "    tokens = answer.split()\n",
    "    tokens = [word for word in tokens if word not in stop_words]\n",
    "    \n",
    "    return \" \".join(tokens)\n",
    "\n",
    "processed_texts = [preprocess_text(answer) for answer in answers]"
   ]
  },
  {
   "cell_type": "code",
   "execution_count": 7,
   "metadata": {},
   "outputs": [
    {
     "name": "stderr",
     "output_type": "stream",
     "text": [
      "2025-09-17 19:03:21,378 - BERTopic - Embedding - Transforming documents to embeddings.\n"
     ]
    },
    {
     "data": {
      "application/vnd.jupyter.widget-view+json": {
       "model_id": "5cac88b913f44ef997f59f98ee444ae1",
       "version_major": 2,
       "version_minor": 0
      },
      "text/plain": [
       "Batches:   0%|          | 0/313 [00:00<?, ?it/s]"
      ]
     },
     "metadata": {},
     "output_type": "display_data"
    },
    {
     "name": "stderr",
     "output_type": "stream",
     "text": [
      "2025-09-17 19:03:52,671 - BERTopic - Embedding - Completed ✓\n",
      "2025-09-17 19:03:52,672 - BERTopic - Dimensionality - Fitting the dimensionality reduction algorithm\n",
      "OMP: Info #276: omp_set_nested routine deprecated, please use omp_set_max_active_levels instead.\n",
      "2025-09-17 19:04:04,511 - BERTopic - Dimensionality - Completed ✓\n",
      "2025-09-17 19:04:04,517 - BERTopic - Cluster - Start clustering the reduced embeddings\n",
      "2025-09-17 19:04:10,909 - BERTopic - Cluster - Completed ✓\n",
      "2025-09-17 19:04:10,930 - BERTopic - Representation - Fine-tuning topics using representation models.\n",
      "2025-09-17 19:04:11,128 - BERTopic - Representation - Completed ✓\n"
     ]
    }
   ],
   "source": [
    "embedding_model = SentenceTransformer(\"all-MiniLM-L6-v2\")  \n",
    "topic_model = BERTopic(embedding_model=embedding_model, verbose=True, calculate_probabilities= True)\n",
    "\n",
    "topics, probs = topic_model.fit_transform(processed_texts)"
   ]
  },
  {
   "cell_type": "code",
   "execution_count": 8,
   "metadata": {},
   "outputs": [
    {
     "name": "stdout",
     "output_type": "stream",
     "text": [
      "Saved CSV with top 3 topics\n"
     ]
    }
   ],
   "source": [
    "if probs is None:\n",
    "    raise ValueError(\"probs is None. Make sure calculate_probabilities=True when initializing BERTopic.\")\n",
    "top_n = 3\n",
    "top_topics = []\n",
    "for prob in probs:\n",
    "    \n",
    "    if prob is None or len(prob) == 0:\n",
    "        top_topics.append([None]*top_n)\n",
    "        continue\n",
    "    top_idx = np.argsort(prob)[::-1][:top_n]\n",
    "    top_topics.append(top_idx.tolist())\n",
    "\n",
    "top_cols = [f\"topic_{i+1}\" for i in range(top_n)]\n",
    "df_top = pd.DataFrame(top_topics, columns=top_cols)\n",
    "\n",
    "sample_df_with_topics = pd.concat([sample_df.reset_index(drop=True), df_top], axis=1)\n",
    "\n",
    "sample_df_with_topics.to_csv(\"/Users/kartikayluthra/Desktop/finance-qa-/data/processed/train_sample_with_top3_topics.csv\", index=False)\n",
    "print(\"Saved CSV with top 3 topics\")"
   ]
  },
  {
   "cell_type": "code",
   "execution_count": 9,
   "metadata": {},
   "outputs": [
    {
     "name": "stdout",
     "output_type": "stream",
     "text": [
      "     Topic  Count                                               Name  \\\n",
      "0       -1   2451                           -1_market_price_may_also   \n",
      "1        0    765                                  0_ha_afọ_woof_unk   \n",
      "2        1    428                     1_neutral_cordoned_pictet_nerd   \n",
      "3        2    400  2_答案_使用_adyenadyen是一家总部位于荷兰的全球支付解决方案提供商为企业提供全球...   \n",
      "4        3    380                            3_xbrl_associated_data_   \n",
      "..     ...    ...                                                ...   \n",
      "134    133     11                  133_layer_memory_computer_network   \n",
      "135    134     11                        134_nine_seven_eight_oclock   \n",
      "136    135     11                    135_privacy_secure_data_protect   \n",
      "137    136     11              136_percent_unanimously_eighty_nearly   \n",
      "138    137     10                        137_color_colors_mixing_red   \n",
      "\n",
      "                                        Representation  \\\n",
      "0    [market, price, may, also, profit, could, numb...   \n",
      "1    [ha, afọ, woof, unk, mans, yip, demote, jesus,...   \n",
      "2    [neutral, cordoned, pictet, nerd, defensive, s...   \n",
      "3    [答案, 使用, adyenadyen是一家总部位于荷兰的全球支付解决方案提供商为企业提供全...   \n",
      "4               [xbrl, associated, data, , , , , , , ]   \n",
      "..                                                 ...   \n",
      "134  [layer, memory, computer, network, device, pro...   \n",
      "135  [nine, seven, eight, oclock, nineveh, starts, ...   \n",
      "136  [privacy, secure, data, protect, biometrics, a...   \n",
      "137  [percent, unanimously, eighty, nearly, estimat...   \n",
      "138  [color, colors, mixing, red, yellow, orange, c...   \n",
      "\n",
      "                                   Representative_Docs  \n",
      "0    [look pricebook value stocks may pb happen lea...  \n",
      "1                                      [afọ, mans, ha]  \n",
      "2                          [neutral, neutral, neutral]  \n",
      "3    [答案 经济全球化对金融市场的基本影响主要表现在以下几个方面 提高了金融市场的互联性经济全球...  \n",
      "4    [xbrl associated data, xbrl associated data, x...  \n",
      "..                                                 ...  \n",
      "134  [components computer system typically include ...  \n",
      "135                                 [nine, nine, nine]  \n",
      "136  [four factor authentication fa security measur...  \n",
      "137                        [percent, percent, percent]  \n",
      "138  [neutral color scheme whites grays great choic...  \n",
      "\n",
      "[139 rows x 5 columns]\n"
     ]
    }
   ],
   "source": [
    "# Summary of all topics\n",
    "topic_info = topic_model.get_topic_info()\n",
    "print(topic_info)\n"
   ]
  },
  {
   "cell_type": "code",
   "execution_count": 12,
   "metadata": {},
   "outputs": [],
   "source": [
    "topic_map = dict(zip(topic_info[\"Topic\"], topic_info[\"Name\"]))\n",
    "df = pd.read_csv(\"/Users/kartikayluthra/Desktop/finance-qa-/data/processed/train_sample_with_top3_topics.csv\")"
   ]
  },
  {
   "cell_type": "code",
   "execution_count": 15,
   "metadata": {},
   "outputs": [
    {
     "name": "stdout",
     "output_type": "stream",
     "text": [
      "Index(['system', 'user', 'assistant', 'topic_1', 'topic_2', 'topic_3'], dtype='object')\n"
     ]
    }
   ],
   "source": [
    "print(df.columns)"
   ]
  },
  {
   "cell_type": "code",
   "execution_count": 16,
   "metadata": {},
   "outputs": [],
   "source": [
    "for col in [\"topic_1\", \"topic_2\", \"topic_3\"]:\n",
    "     df[col] = df[col].map(topic_map)"
   ]
  },
  {
   "cell_type": "code",
   "execution_count": 17,
   "metadata": {},
   "outputs": [
    {
     "data": {
      "text/html": [
       "<div>\n",
       "<style scoped>\n",
       "    .dataframe tbody tr th:only-of-type {\n",
       "        vertical-align: middle;\n",
       "    }\n",
       "\n",
       "    .dataframe tbody tr th {\n",
       "        vertical-align: top;\n",
       "    }\n",
       "\n",
       "    .dataframe thead th {\n",
       "        text-align: right;\n",
       "    }\n",
       "</style>\n",
       "<table border=\"1\" class=\"dataframe\">\n",
       "  <thead>\n",
       "    <tr style=\"text-align: right;\">\n",
       "      <th></th>\n",
       "      <th>system</th>\n",
       "      <th>user</th>\n",
       "      <th>assistant</th>\n",
       "      <th>topic_1</th>\n",
       "      <th>topic_2</th>\n",
       "      <th>topic_3</th>\n",
       "    </tr>\n",
       "  </thead>\n",
       "  <tbody>\n",
       "    <tr>\n",
       "      <th>0</th>\n",
       "      <td>\\n</td>\n",
       "      <td>Emily purchased 8 bundles, each containing 24 ...</td>\n",
       "      <td>To find Emily's total profit, let's first calc...</td>\n",
       "      <td>34_revenue_total_profit_cost</td>\n",
       "      <td>109_tuesday_monday_saturday_made</td>\n",
       "      <td>54_book_profit_books_revenue</td>\n",
       "    </tr>\n",
       "    <tr>\n",
       "      <th>1</th>\n",
       "      <td>\\n</td>\n",
       "      <td>A bakery sells a total of 480 muffins and cake...</td>\n",
       "      <td>To find the total profit made by the bakery, w...</td>\n",
       "      <td>81_cakes_muffins_sold_profit</td>\n",
       "      <td>123_cakes_muffins_fracc_cake</td>\n",
       "      <td>34_revenue_total_profit_cost</td>\n",
       "    </tr>\n",
       "    <tr>\n",
       "      <th>2</th>\n",
       "      <td>You are a financial analyst categorizing tweet...</td>\n",
       "      <td>DigitalBridge to Acquire Majority Stake in GD ...</td>\n",
       "      <td>M&amp;A | Investments</td>\n",
       "      <td>85_financials_investments_followed_islamic</td>\n",
       "      <td>79_markets_conditions_favor_market</td>\n",
       "      <td>88_movement_stock_premarket_shares</td>\n",
       "    </tr>\n",
       "    <tr>\n",
       "      <th>3</th>\n",
       "      <td>As a finance expert, your role is to provide i...</td>\n",
       "      <td>Request:\\nConvert this sentence into a valid f...</td>\n",
       "      <td>for element in list:\\n    element = element * 2</td>\n",
       "      <td>49_bond_bonds_chemical_energy</td>\n",
       "      <td>119_snake_oil_steam_energy</td>\n",
       "      <td>129_oil_engine_fuel_dipstick</td>\n",
       "    </tr>\n",
       "    <tr>\n",
       "      <th>4</th>\n",
       "      <td>\\n</td>\n",
       "      <td>欧洲联盟的经济模型是怎样的？</td>\n",
       "      <td>&lt;欧洲联盟的经济模型是一种社会市场经济模型。它强调自由市场和竞争，同时也强调社会福利和公平。...</td>\n",
       "      <td>2_答案_使用_adyenadyen是一家总部位于荷兰的全球支付解决方案提供商为企业提供全球...</td>\n",
       "      <td>9_document_type_domain_unique_identifier_techn...</td>\n",
       "      <td>76_ontario_canada_normalized_house_number</td>\n",
       "    </tr>\n",
       "  </tbody>\n",
       "</table>\n",
       "</div>"
      ],
      "text/plain": [
       "                                              system  \\\n",
       "0                                                 \\n   \n",
       "1                                                 \\n   \n",
       "2  You are a financial analyst categorizing tweet...   \n",
       "3  As a finance expert, your role is to provide i...   \n",
       "4                                                 \\n   \n",
       "\n",
       "                                                user  \\\n",
       "0  Emily purchased 8 bundles, each containing 24 ...   \n",
       "1  A bakery sells a total of 480 muffins and cake...   \n",
       "2  DigitalBridge to Acquire Majority Stake in GD ...   \n",
       "3  Request:\\nConvert this sentence into a valid f...   \n",
       "4                                     欧洲联盟的经济模型是怎样的？   \n",
       "\n",
       "                                           assistant  \\\n",
       "0  To find Emily's total profit, let's first calc...   \n",
       "1  To find the total profit made by the bakery, w...   \n",
       "2                                  M&A | Investments   \n",
       "3    for element in list:\\n    element = element * 2   \n",
       "4  <欧洲联盟的经济模型是一种社会市场经济模型。它强调自由市场和竞争，同时也强调社会福利和公平。...   \n",
       "\n",
       "                                             topic_1  \\\n",
       "0                       34_revenue_total_profit_cost   \n",
       "1                       81_cakes_muffins_sold_profit   \n",
       "2         85_financials_investments_followed_islamic   \n",
       "3                      49_bond_bonds_chemical_energy   \n",
       "4  2_答案_使用_adyenadyen是一家总部位于荷兰的全球支付解决方案提供商为企业提供全球...   \n",
       "\n",
       "                                             topic_2  \\\n",
       "0                   109_tuesday_monday_saturday_made   \n",
       "1                       123_cakes_muffins_fracc_cake   \n",
       "2                 79_markets_conditions_favor_market   \n",
       "3                         119_snake_oil_steam_energy   \n",
       "4  9_document_type_domain_unique_identifier_techn...   \n",
       "\n",
       "                                     topic_3  \n",
       "0               54_book_profit_books_revenue  \n",
       "1               34_revenue_total_profit_cost  \n",
       "2         88_movement_stock_premarket_shares  \n",
       "3               129_oil_engine_fuel_dipstick  \n",
       "4  76_ontario_canada_normalized_house_number  "
      ]
     },
     "execution_count": 17,
     "metadata": {},
     "output_type": "execute_result"
    }
   ],
   "source": [
    "df.head()"
   ]
  },
  {
   "cell_type": "code",
   "execution_count": 18,
   "metadata": {},
   "outputs": [],
   "source": [
    "df.to_csv(\"/Users/kartikayluthra/Desktop/finance-qa-/data/processed/train_sample_topics.csv\", index= False)"
   ]
  }
 ],
 "metadata": {
  "kernelspec": {
   "display_name": "base",
   "language": "python",
   "name": "python3"
  },
  "language_info": {
   "codemirror_mode": {
    "name": "ipython",
    "version": 3
   },
   "file_extension": ".py",
   "mimetype": "text/x-python",
   "name": "python",
   "nbconvert_exporter": "python",
   "pygments_lexer": "ipython3",
   "version": "3.12.4"
  }
 },
 "nbformat": 4,
 "nbformat_minor": 2
}
